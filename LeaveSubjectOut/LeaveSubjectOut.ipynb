{
 "cells": [
  {
   "cell_type": "code",
   "execution_count": 1,
   "metadata": {},
   "outputs": [],
   "source": [
    "import pandas as pd\n",
    "import numpy as np\n",
    "from sklearn.neighbors import KNeighborsClassifier\n",
    "\n",
    "%matplotlib inline"
   ]
  },
  {
   "cell_type": "code",
   "execution_count": 2,
   "metadata": {},
   "outputs": [
    {
     "name": "stdout",
     "output_type": "stream",
     "text": [
      "10300\n"
     ]
    }
   ],
   "source": [
    "df=pd.read_csv('paindata2.csv')\n",
    "print (len(df))"
   ]
  },
  {
   "cell_type": "code",
   "execution_count": 3,
   "metadata": {},
   "outputs": [
    {
     "data": {
      "text/html": [
       "<div>\n",
       "<style scoped>\n",
       "    .dataframe tbody tr th:only-of-type {\n",
       "        vertical-align: middle;\n",
       "    }\n",
       "\n",
       "    .dataframe tbody tr th {\n",
       "        vertical-align: top;\n",
       "    }\n",
       "\n",
       "    .dataframe thead th {\n",
       "        text-align: right;\n",
       "    }\n",
       "</style>\n",
       "<table border=\"1\" class=\"dataframe\">\n",
       "  <thead>\n",
       "    <tr style=\"text-align: right;\">\n",
       "      <th></th>\n",
       "      <th>subject</th>\n",
       "      <th>test</th>\n",
       "      <th>label</th>\n",
       "      <th>label_time</th>\n",
       "      <th>feat1</th>\n",
       "      <th>feat2</th>\n",
       "      <th>feat3</th>\n",
       "      <th>feat4</th>\n",
       "      <th>feat5</th>\n",
       "    </tr>\n",
       "  </thead>\n",
       "  <tbody>\n",
       "    <tr>\n",
       "      <th>0</th>\n",
       "      <td>1</td>\n",
       "      <td>1</td>\n",
       "      <td>1</td>\n",
       "      <td>1</td>\n",
       "      <td>1.524262</td>\n",
       "      <td>-0.666343</td>\n",
       "      <td>-0.549833</td>\n",
       "      <td>-1.246646</td>\n",
       "      <td>0.051625</td>\n",
       "    </tr>\n",
       "    <tr>\n",
       "      <th>1</th>\n",
       "      <td>1</td>\n",
       "      <td>1</td>\n",
       "      <td>1</td>\n",
       "      <td>2</td>\n",
       "      <td>1.524262</td>\n",
       "      <td>-0.664841</td>\n",
       "      <td>0.002227</td>\n",
       "      <td>-1.229926</td>\n",
       "      <td>-0.443984</td>\n",
       "    </tr>\n",
       "    <tr>\n",
       "      <th>2</th>\n",
       "      <td>1</td>\n",
       "      <td>1</td>\n",
       "      <td>1</td>\n",
       "      <td>3</td>\n",
       "      <td>0.984724</td>\n",
       "      <td>-0.663184</td>\n",
       "      <td>-0.005266</td>\n",
       "      <td>-1.211983</td>\n",
       "      <td>1.139869</td>\n",
       "    </tr>\n",
       "    <tr>\n",
       "      <th>3</th>\n",
       "      <td>1</td>\n",
       "      <td>1</td>\n",
       "      <td>1</td>\n",
       "      <td>4</td>\n",
       "      <td>0.911751</td>\n",
       "      <td>-0.661525</td>\n",
       "      <td>3.078269</td>\n",
       "      <td>-1.194518</td>\n",
       "      <td>0.060341</td>\n",
       "    </tr>\n",
       "    <tr>\n",
       "      <th>4</th>\n",
       "      <td>1</td>\n",
       "      <td>1</td>\n",
       "      <td>1</td>\n",
       "      <td>5</td>\n",
       "      <td>1.098743</td>\n",
       "      <td>-0.659985</td>\n",
       "      <td>1.182690</td>\n",
       "      <td>-1.178714</td>\n",
       "      <td>0.383784</td>\n",
       "    </tr>\n",
       "  </tbody>\n",
       "</table>\n",
       "</div>"
      ],
      "text/plain": [
       "   subject  test  label  label_time     feat1     feat2     feat3     feat4  \\\n",
       "0        1     1      1           1  1.524262 -0.666343 -0.549833 -1.246646   \n",
       "1        1     1      1           2  1.524262 -0.664841  0.002227 -1.229926   \n",
       "2        1     1      1           3  0.984724 -0.663184 -0.005266 -1.211983   \n",
       "3        1     1      1           4  0.911751 -0.661525  3.078269 -1.194518   \n",
       "4        1     1      1           5  1.098743 -0.659985  1.182690 -1.178714   \n",
       "\n",
       "      feat5  \n",
       "0  0.051625  \n",
       "1 -0.443984  \n",
       "2  1.139869  \n",
       "3  0.060341  \n",
       "4  0.383784  "
      ]
     },
     "execution_count": 3,
     "metadata": {},
     "output_type": "execute_result"
    }
   ],
   "source": [
    "#Feature normalization according to subjects\n",
    "featcols=['feat1','feat2','feat3','feat4','feat5']\n",
    "zscore =lambda x: (x - x.mean()) / x.std()\n",
    "\n",
    "subject_wise_normlized = df.copy()\n",
    "dfs=df.copy()\n",
    "\n",
    "#This will normalize the features only\n",
    "dfs[featcols] = dfs[featcols].transform(zscore)\n",
    "    \n",
    "# subject_wise_normliz & feature wise normalize\n",
    "\n",
    "subject_wise_normlized[featcols] = subject_wise_normlized[featcols].groupby(subject_wise_normlized.subject).transform(zscore)\n",
    "subject_wise_normlized.head()\n"
   ]
  },
  {
   "cell_type": "code",
   "execution_count": 4,
   "metadata": {},
   "outputs": [
    {
     "data": {
      "text/html": [
       "<div>\n",
       "<style scoped>\n",
       "    .dataframe tbody tr th:only-of-type {\n",
       "        vertical-align: middle;\n",
       "    }\n",
       "\n",
       "    .dataframe tbody tr th {\n",
       "        vertical-align: top;\n",
       "    }\n",
       "\n",
       "    .dataframe thead th {\n",
       "        text-align: right;\n",
       "    }\n",
       "</style>\n",
       "<table border=\"1\" class=\"dataframe\">\n",
       "  <thead>\n",
       "    <tr style=\"text-align: right;\">\n",
       "      <th></th>\n",
       "      <th>subject</th>\n",
       "      <th>test</th>\n",
       "      <th>label</th>\n",
       "      <th>label_time</th>\n",
       "      <th>feat1</th>\n",
       "      <th>feat2</th>\n",
       "      <th>feat3</th>\n",
       "      <th>feat4</th>\n",
       "      <th>feat5</th>\n",
       "    </tr>\n",
       "  </thead>\n",
       "  <tbody>\n",
       "    <tr>\n",
       "      <th>0</th>\n",
       "      <td>1</td>\n",
       "      <td>1</td>\n",
       "      <td>1</td>\n",
       "      <td>1</td>\n",
       "      <td>2.032600</td>\n",
       "      <td>-0.331928</td>\n",
       "      <td>-0.419423</td>\n",
       "      <td>-0.735973</td>\n",
       "      <td>0.092354</td>\n",
       "    </tr>\n",
       "    <tr>\n",
       "      <th>1</th>\n",
       "      <td>1</td>\n",
       "      <td>1</td>\n",
       "      <td>1</td>\n",
       "      <td>2</td>\n",
       "      <td>2.032600</td>\n",
       "      <td>-0.331814</td>\n",
       "      <td>-0.187544</td>\n",
       "      <td>-0.728177</td>\n",
       "      <td>-0.150832</td>\n",
       "    </tr>\n",
       "    <tr>\n",
       "      <th>2</th>\n",
       "      <td>1</td>\n",
       "      <td>1</td>\n",
       "      <td>1</td>\n",
       "      <td>3</td>\n",
       "      <td>1.814927</td>\n",
       "      <td>-0.331688</td>\n",
       "      <td>-0.190691</td>\n",
       "      <td>-0.719811</td>\n",
       "      <td>0.626335</td>\n",
       "    </tr>\n",
       "    <tr>\n",
       "      <th>3</th>\n",
       "      <td>1</td>\n",
       "      <td>1</td>\n",
       "      <td>1</td>\n",
       "      <td>4</td>\n",
       "      <td>1.785487</td>\n",
       "      <td>-0.331563</td>\n",
       "      <td>1.104468</td>\n",
       "      <td>-0.711668</td>\n",
       "      <td>0.096631</td>\n",
       "    </tr>\n",
       "    <tr>\n",
       "      <th>4</th>\n",
       "      <td>1</td>\n",
       "      <td>1</td>\n",
       "      <td>1</td>\n",
       "      <td>5</td>\n",
       "      <td>1.860927</td>\n",
       "      <td>-0.331446</td>\n",
       "      <td>0.308279</td>\n",
       "      <td>-0.704299</td>\n",
       "      <td>0.255338</td>\n",
       "    </tr>\n",
       "  </tbody>\n",
       "</table>\n",
       "</div>"
      ],
      "text/plain": [
       "   subject  test  label  label_time     feat1     feat2     feat3     feat4  \\\n",
       "0        1     1      1           1  2.032600 -0.331928 -0.419423 -0.735973   \n",
       "1        1     1      1           2  2.032600 -0.331814 -0.187544 -0.728177   \n",
       "2        1     1      1           3  1.814927 -0.331688 -0.190691 -0.719811   \n",
       "3        1     1      1           4  1.785487 -0.331563  1.104468 -0.711668   \n",
       "4        1     1      1           5  1.860927 -0.331446  0.308279 -0.704299   \n",
       "\n",
       "      feat5  \n",
       "0  0.092354  \n",
       "1 -0.150832  \n",
       "2  0.626335  \n",
       "3  0.096631  \n",
       "4  0.255338  "
      ]
     },
     "execution_count": 4,
     "metadata": {},
     "output_type": "execute_result"
    }
   ],
   "source": [
    "dfs.head()"
   ]
  },
  {
   "cell_type": "code",
   "execution_count": 5,
   "metadata": {},
   "outputs": [],
   "source": [
    "# implementation  of C_index\n",
    "def c_index (true_labels, predictions):\n",
    "    n = 0\n",
    "    h_sum =0\n",
    "    \n",
    "    for i in range(len(true_labels)):\n",
    "        t = true_labels[i]\n",
    "        p = predictions[i]\n",
    "        \n",
    "        \n",
    "        for j in range(i+1, len(true_labels)):\n",
    "            nt = true_labels[j]\n",
    "            np = predictions[j]\n",
    "            \n",
    "            if( t!=nt):\n",
    "                n += 1\n",
    "                \n",
    "                if(p < np and t <  nt) or (p > np and t > nt):\n",
    "                    h_sum += 1\n",
    "                \n",
    "                elif(p == np):\n",
    "                    h_sum += 0.5\n",
    "                \n",
    "    c_index = h_sum/n\n",
    "    return c_index"
   ]
  },
  {
   "cell_type": "markdown",
   "metadata": {},
   "source": [
    "# Leave Subject Out Cross Validation"
   ]
  },
  {
   "cell_type": "code",
   "execution_count": 6,
   "metadata": {},
   "outputs": [],
   "source": [
    "def leave_subject_out(dataset):\n",
    "    \n",
    "    c_index_dic={} #This will store the c index values for each subject\n",
    "    pred_class_each=[]\n",
    "    all_predict = np.array([])\n",
    "    true_class_each=[]\n",
    "    for x in range(1,len(dataset.subject.unique())+1):\n",
    "        test_data= dataset[dataset['subject'] == x] #Test and train data are complementary\n",
    "        train_data=dataset[dataset['subject'] !=x]\n",
    "        \n",
    "        \n",
    "        #Defining the train and test data. Only the feature and target columns are considered.\n",
    "        featcols=['feat1','feat2','feat3','feat4','feat5']\n",
    "        x_test=test_data[featcols]\n",
    "        #print (len(x_test))\n",
    "        y_test=test_data['label']\n",
    "        x_train=train_data[featcols]\n",
    "        y_train=train_data['label']\n",
    "        \n",
    "        \n",
    "        #Fitting the knn model and predicting c indexes for each subject\n",
    "        knn=KNeighborsClassifier(n_neighbors=37, metric='euclidean')\n",
    "        knn.fit(x_train,y_train)\n",
    "        pred_class=knn.predict(x_test)\n",
    "        all_predict = np.concatenate([all_predict, pred_class])\n",
    "        true_class_each.append(y_test.values)\n",
    "        \n",
    "       #Calling the c index function for evaluation\n",
    "        c_ind= c_index(y_test.values, pred_class)\n",
    "        c_index_dic[x]= c_ind # c index of each subject \n",
    "\n",
    "    ci_df = pd.DataFrame(list(c_index_dic.items()), columns=['subject_id', 'c-index']) #c index of each subject in dataframe\n",
    "    pred_df=pd.DataFrame({'Predicted Class':pred_class_each})\n",
    "    true_df=pd.DataFrame({'True Class':true_class_each})\n",
    "    final=pd.concat([ci_df,pred_df,true_df],axis=1)\n",
    "    final_df=pd.concat([ci_df,pred_df],axis=1)\n",
    "    #Q.n. 5. Returning predicted values and c index for each subject\n",
    "    return all_predict,ci_df\n",
    "        \n",
    "    \n",
    " "
   ]
  },
  {
   "cell_type": "code",
   "execution_count": 7,
   "metadata": {},
   "outputs": [
    {
     "name": "stdout",
     "output_type": "stream",
     "text": [
      "Predicted values and CI of  subjectwise normalized \n",
      " [2. 2. 2. ... 3. 2. 2.]     subject_id   c-index\n",
      "0            1  0.757307\n",
      "1            2  0.577981\n",
      "2            3  0.528985\n",
      "3            4  0.675082\n",
      "4            5  0.635554\n",
      "5            6  0.522252\n",
      "6            7  0.648489\n",
      "7            8  0.697434\n",
      "8            9  0.524919\n",
      "9           10  0.573981\n",
      "10          11  0.698804\n",
      "11          12  0.640144\n",
      "12          13  0.674085\n",
      "13          14  0.562218\n",
      "14          15  0.760621\n",
      "15          16  0.709864\n",
      "16          17  0.684865\n",
      "17          18  0.699061\n",
      "18          19  0.630150\n",
      "19          20  0.498475\n",
      "20          21  0.645309\n",
      "21          22  0.533840\n",
      "22          23  0.677152\n",
      "23          24  0.534289\n",
      "24          25  0.597880\n",
      "25          26  0.589823\n",
      "26          27  0.683781\n",
      "27          28  0.778379\n",
      "28          29  0.642633\n",
      "29          30  0.606944\n",
      "30          31  0.557418 \n",
      "\n",
      "Predicted values and CI of  feature wise normalized \n",
      " [2. 2. 2. ... 2. 2. 2.]     subject_id   c-index\n",
      "0            1  0.694964\n",
      "1            2  0.574542\n",
      "2            3  0.461034\n",
      "3            4  0.604361\n",
      "4            5  0.565032\n",
      "5            6  0.471897\n",
      "6            7  0.520569\n",
      "7            8  0.626862\n",
      "8            9  0.459752\n",
      "9           10  0.535520\n",
      "10          11  0.538280\n",
      "11          12  0.535928\n",
      "12          13  0.588649\n",
      "13          14  0.472719\n",
      "14          15  0.554986\n",
      "15          16  0.513297\n",
      "16          17  0.602134\n",
      "17          18  0.636643\n",
      "18          19  0.559309\n",
      "19          20  0.449305\n",
      "20          21  0.583761\n",
      "21          22  0.602712\n",
      "22          23  0.413719\n",
      "23          24  0.529683\n",
      "24          25  0.625990\n",
      "25          26  0.512090\n",
      "26          27  0.646167\n",
      "27          28  0.667104\n",
      "28          29  0.573556\n",
      "29          30  0.429894\n",
      "30          31  0.522556 \n",
      "\n"
     ]
    }
   ],
   "source": [
    "#Q.n. 6. I am calling the above function to return predicted values and CI for both data. \n",
    "for x in zip([subject_wise_normlized,dfs],['subjectwise normalized','feature wise normalized']):\n",
    "    pred_vals,ci=leave_subject_out(x[0])\n",
    "    print('Predicted values and CI of ',x[1],'\\n',pred_vals,ci,'\\n')"
   ]
  },
  {
   "cell_type": "code",
   "execution_count": 8,
   "metadata": {},
   "outputs": [
    {
     "data": {
      "text/plain": [
       "array([1, 1, 1, ..., 3, 3, 3])"
      ]
     },
     "execution_count": 8,
     "metadata": {},
     "output_type": "execute_result"
    }
   ],
   "source": [
    "true_label = df['label'].values\n",
    "true_label"
   ]
  },
  {
   "cell_type": "code",
   "execution_count": 9,
   "metadata": {},
   "outputs": [
    {
     "name": "stdout",
     "output_type": "stream",
     "text": [
      "C-index for  subjectwise normalized \n",
      " 0.6423838292434334 \n",
      "\n",
      "C-index for  feature wise normalized \n",
      " 0.5756246051722591 \n",
      "\n"
     ]
    }
   ],
   "source": [
    "#Q. n. 7. C index on whole dataset\n",
    "for x in zip([subject_wise_normlized,dfs],['subjectwise normalized','feature wise normalized']):\n",
    "    labels,ci=leave_subject_out(x[0])\n",
    "    print('C-index for ',x[1],'\\n',c_index(labels,true_label),'\\n')\n"
   ]
  },
  {
   "cell_type": "code",
   "execution_count": 10,
   "metadata": {},
   "outputs": [],
   "source": [
    "pred1,sub_ci=leave_subject_out(subject_wise_normlized)\n",
    "pred2,feature_ci=leave_subject_out(dfs)\n",
    "\n"
   ]
  },
  {
   "cell_type": "code",
   "execution_count": 11,
   "metadata": {},
   "outputs": [
    {
     "name": "stdout",
     "output_type": "stream",
     "text": [
      "The highest c-index for Subjectwise normalized data is: 0.7783792928438504\n",
      "\n",
      "\n",
      "The lowest c-index for Subjectwise normalized data is: 0.49847541472983925\n",
      "\n",
      "\n",
      "The mean c-index for subjectwise normalized data is: 0.6305715884921627\n"
     ]
    }
   ],
   "source": [
    "#Q. n. 8. C index for the first dataset\n",
    "print('The highest c-index for Subjectwise normalized data is:',sub_ci.max()[1])\n",
    "print('\\n')\n",
    "print('The lowest c-index for Subjectwise normalized data is:',sub_ci.min()[1])\n",
    "print('\\n')\n",
    "print('The mean c-index for subjectwise normalized data is:',sub_ci.mean()[1])\n"
   ]
  },
  {
   "cell_type": "code",
   "execution_count": 12,
   "metadata": {},
   "outputs": [
    {
     "name": "stdout",
     "output_type": "stream",
     "text": [
      "The highest c-index for Subjectwise normalized data is: 0.6949639228390517\n",
      "\n",
      "\n",
      "The lowest c-index for Subjectwise normalized data is: 0.41371887966804977\n",
      "\n",
      "\n",
      "The mean c-index for subjectwise normalized data is: 0.5507423247809385\n"
     ]
    }
   ],
   "source": [
    "#Q.8 C index for all data(featurewise normalized)\n",
    "print('The highest c-index for Subjectwise normalized data is:',feature_ci.max()[1])\n",
    "print('\\n')\n",
    "print('The lowest c-index for Subjectwise normalized data is:',feature_ci.min()[1])\n",
    "print('\\n')\n",
    "print('The mean c-index for subjectwise normalized data is:',feature_ci.mean()[1])"
   ]
  },
  {
   "cell_type": "code",
   "execution_count": 13,
   "metadata": {},
   "outputs": [],
   "source": [
    "# #Q. N. 10. Real label vs predicted label for subjectwise and featurewise normalized data\n",
    "# import matplotlib.pyplot as plt\n",
    "# axes=plt.figure(figsize=(7,5))\n",
    "\n",
    "# x=true_label\n",
    "\n",
    "# for i in zip([subject_wise_normlized,dfs],['subjectwise normalized','feature wise normalized']):\n",
    "#     labels,ci=leave_subject_out(i[0])\n",
    "#     y=labels\n",
    "       \n",
    "#     #print(pd.DataFrame({'true_label':x,'predicted':y}))\n",
    "\n",
    "#     plt.plot(x,y)\n",
    "    \n",
    "    \n",
    "#     plt.title('Plot for '+i[1])\n",
    "#     plt.show()"
   ]
  },
  {
   "cell_type": "code",
   "execution_count": null,
   "metadata": {},
   "outputs": [],
   "source": []
  },
  {
   "cell_type": "code",
   "execution_count": 14,
   "metadata": {},
   "outputs": [
    {
     "name": "stdout",
     "output_type": "stream",
     "text": [
      "(-0.5, 32.5)\n"
     ]
    },
    {
     "data": {
      "image/png": "[encoded data removed]",
      "text/plain": [
       "<Figure size 504x360 with 1 Axes>"
      ]
     },
     "metadata": {
      "needs_background": "light"
     },
     "output_type": "display_data"
    },
    {
     "name": "stdout",
     "output_type": "stream",
     "text": [
      "(-0.5, 32.5)\n"
     ]
    },
    {
     "data": {
      "image/png": "[encoded data removed]",
      "text/plain": [
       "<Figure size 432x288 with 1 Axes>"
      ]
     },
     "metadata": {
      "needs_background": "light"
     },
     "output_type": "display_data"
    }
   ],
   "source": [
    "#Checking the performance. The plot shows highest, lowest and the average values and the overall variation of c indexes.\n",
    "import matplotlib.pyplot as plt\n",
    "axes=plt.figure(figsize=(7,5))\n",
    "\n",
    "\n",
    "for i in zip([sub_ci,feature_ci],['Subjectwise normalized','Feature wise normalized']):\n",
    "    y= i[0]['c-index'].sort_values()\n",
    "    x= i[0]['subject_id']\n",
    "\n",
    "    plt.plot(x,y,label='C-index')\n",
    "    axes=plt.gca()  #get the limit of x and y axis (-0.5, 32.5)\n",
    "    print(axes.get_xlim())\n",
    "    \n",
    "    \n",
    "    plt.plot(axes.get_xlim(), [i[0]['c-index'].mean(),i[0]['c-index'].mean()],label='mean')#This will draw the mean line\n",
    "    plt.title('Plot for '+i[1])\n",
    "    plt.legend()\n",
    "    plt.show()"
   ]
  },
  {
   "cell_type": "code",
   "execution_count": null,
   "metadata": {},
   "outputs": [],
   "source": []
  },
  {
   "cell_type": "markdown",
   "metadata": {},
   "source": [
    "# Conclusion\n",
    "Here I have used the sklearn library for fitting the KNN algorithm. Here the features are normalized subject wise. I have calculated the highest and lowest values of c indexes and the mean. Because each person feels pain differently, the highest and lowest c index varies a lot."
   ]
  },
  {
   "cell_type": "markdown",
   "metadata": {},
   "source": [
    "#Q. N. 9\n",
    "1) Each subject has different biosignal data, they have difference in pain sensation. Some people can feel more pain than others. So the average for subject wise will be different than subjects taken all at once. \n",
    "\n",
    "2) We can see that the average value for subjectwise normalized data is higher than for the dataframe normalized at once.\n",
    "\n",
    "3) Also, we can see that the minimum and maximum c index for subjectwise is higher than for the dataframe normalized at once. "
   ]
  },
  {
   "cell_type": "code",
   "execution_count": null,
   "metadata": {},
   "outputs": [],
   "source": []
  }
 ],
 "metadata": {
  "kernelspec": {
   "display_name": "Python 3",
   "language": "python",
   "name": "python3"
  },
  "language_info": {
   "codemirror_mode": {
    "name": "ipython",
    "version": 3
   },
   "file_extension": ".py",
   "mimetype": "text/x-python",
   "name": "python",
   "nbconvert_exporter": "python",
   "pygments_lexer": "ipython3",
   "version": "3.7.1"
  }
 },
 "nbformat": 4,
 "nbformat_minor": 2
}
