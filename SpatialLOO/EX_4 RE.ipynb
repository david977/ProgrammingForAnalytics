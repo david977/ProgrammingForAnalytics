{
 "cells": [
  {
   "cell_type": "code",
   "execution_count": null,
   "metadata": {},
   "outputs": [],
   "source": []
  },
  {
   "cell_type": "markdown",
   "metadata": {},
   "source": []
  },
  {
   "cell_type": "code",
   "execution_count": 1,
   "metadata": {},
   "outputs": [],
   "source": [
    "%matplotlib inline\n",
    "import csv\n",
    "import numpy as np\n",
    "from sklearn.neighbors import KNeighborsRegressor\n",
    "from sklearn import preprocessing\n",
    "from sklearn.metrics.pairwise import euclidean_distances\n",
    "import matplotlib.pyplot as plt\n",
    "from numpy import genfromtxt"
   ]
  },
  {
   "cell_type": "code",
   "execution_count": 2,
   "metadata": {},
   "outputs": [],
   "source": [
    "def load_csv_file(in_file, header=None, delimiter=\",\"):\n",
    "    csv = genfromtxt(in_file, delimiter=delimiter)\n",
    "    return csv\n"
   ]
  },
  {
   "cell_type": "code",
   "execution_count": 3,
   "metadata": {},
   "outputs": [],
   "source": [
    "def c_index(true_labels, predictions):\n",
    "    \"\"\"\n",
    "    Calculate C-index\n",
    "    \"\"\"\n",
    "    n = 0\n",
    "    h_sum = 0\n",
    "    for i in range(0, len(true_labels)):\n",
    "        t = true_labels[i]\n",
    "        p = predictions[i]\n",
    "        for j in range(i+1, len(true_labels)):\n",
    "            nt = true_labels[j]\n",
    "            np = predictions[j]\n",
    "            if t != nt:\n",
    "                n += 1\n",
    "                if (p < np and t < nt) or (p > np and t > nt):\n",
    "                    h_sum += 1.0\n",
    "                elif (p < np and t > nt) or (p > np and t < nt):\n",
    "                    h_sum += 0\n",
    "                elif p == np:\n",
    "                    h_sum += 0.5\n",
    "    return h_sum/float(n)"
   ]
  },
  {
   "cell_type": "code",
   "execution_count": 4,
   "metadata": {},
   "outputs": [],
   "source": [
    "def spatial_leave_one_out(X, Y, i, radius, coor_dist):\n",
    "    \"\"\"\n",
    "    split data into train, test set\n",
    "    remove the data from dead zone specified by radius\n",
    "    \"\"\"\n",
    "    X_train = X\n",
    "    y_train = Y\n",
    "    delete_row = []\n",
    "    \n",
    "    for j in range(0, coor_dist.shape[0], 1):\n",
    "        if coor_dist[i:i+1, j:j+1][0] <= radius:\n",
    "            delete_row.append(j)\n",
    "    delete_row.sort(reverse=True) \n",
    "    for k in delete_row:\n",
    "        X_train = np.delete(X_train, (k), axis=0)\n",
    "        y_train = np.delete(y_train, (k), axis=0)\n",
    "    X_test = X[i:i+1,:]\n",
    "    y_test = Y[i:i+1]\n",
    "    \n",
    "    return X_train, y_train, X_test, y_test"
   ]
  },
  {
   "cell_type": "code",
   "execution_count": 5,
   "metadata": {},
   "outputs": [],
   "source": [
    "def coordinates_distance(coordinates):\n",
    "    \"\"\"\n",
    "    calculate the euclidean distance among all input data\n",
    "    return symmetric matrix\n",
    "    \"\"\"\n",
    "    return euclidean_distances(coordinates, coordinates)"
   ]
  },
  {
   "cell_type": "code",
   "execution_count": 6,
   "metadata": {},
   "outputs": [],
   "source": [
    "def cross_validation(n_neighbor, X, y, coor_dist, radius):\n",
    "    \"\"\"\n",
    "    run leave-one-out cross-vaidation experiments with \n",
    "    the given neighbours\n",
    "    \"\"\"\n",
    "    cv_scores = []\n",
    "    all_predict = np.array([])\n",
    "    all_test = np.array([])\n",
    "    for i in range(0, len(X), 1):\n",
    "        X_train, y_train, X_test, y_test = spatial_leave_one_out(X, y, i, radius, coor_dist)\n",
    "        normalizer = preprocessing.StandardScaler().fit(X_train)\n",
    "        X_train_scaled = normalizer.transform(X_train)\n",
    "        X_test_scaled = normalizer.transform(X_test)\n",
    "        # print \"scaled data mean\", X_train_scaled.mean(axis=0)\n",
    "        # print \"scaled data std\", X_train_scaled.std(axis=0)\n",
    "        knn = KNeighborsRegressor(n_neighbors=n_neighbor)\n",
    "        knn.fit(X_train_scaled, y_train)\n",
    "        y_predict = knn.predict(X_test_scaled)\n",
    "        all_predict = np.concatenate([all_predict, y_predict])\n",
    "        all_test = np.concatenate([all_test, y_test])\n",
    "        # scores = c_index(y_test, y_predict)\n",
    "        # print \"c-index for {} folds\".format(str(n_groups))\n",
    "        # print scores\n",
    "        # cv_scores.append(scores)\n",
    "    cv_scores = c_index(all_test, all_predict)\n",
    "    return np.mean(cv_scores)\n",
    "\n",
    "\n",
    "  "
   ]
  },
  {
   "cell_type": "code",
   "execution_count": 1,
   "metadata": {},
   "outputs": [],
   "source": [
    "def main_function(x_data_file, y_data_file, coor_file,  max_radius):\n",
    "    \"\"\"\n",
    "    varying the radius ranging from 0 to 200 \n",
    "    save C-index for each radius in dictionary for plotting graph \n",
    "    \"\"\"\n",
    "    radius_optimal_CI=dict() #this dictionary will store c index of each radius corresponding to optimal k\n",
    "    \n",
    "    coordinates = load_csv_file(coor_file)\n",
    "    coor_dist = coordinates_distance(coordinates)\n",
    "    \n",
    "    \n",
    "\n",
    "    X = load_csv_file(x_data_file)\n",
    "    Y = load_csv_file(y_data_file)\n",
    "    print (\"sample input data\\n\", X[:, 0:10])\n",
    "    print (\"sample output data\\n\", Y[0:10])\n",
    "    print (\"original X data dimension\", X.shape)\n",
    "    print (\"original Y data dimension\", Y.shape)\n",
    "    for radius in range(0, max_radius+10, 10):\n",
    "        optimal_k=0 #Stores the optimal k \n",
    "        highest_CI=0 #stores the c index value corresponding to optimal k\n",
    "        #print('runing....')\n",
    "        for k in range(1,10,2):\n",
    "            total_score = cross_validation(k, X, Y, coor_dist, radius)\n",
    "\n",
    "            if total_score>highest_CI:# we are getting here the c index with highest value\n",
    "                highest_CI=total_score\n",
    "                optimal_k=k#The k corresponding to highest C index is the optimal k. \n",
    "        radius_optimal_CI[radius]=(optimal_k,highest_CI)# In the dictionary we store, for each radius, the optimal k and the corresponding c index       \n",
    "        \n",
    "        print (\"radius:\", radius, \"C-index:\", highest_CI)\n",
    "\n",
    "        \n",
    "    return radius_optimal_CI\n"
   ]
  },
  {
   "cell_type": "code",
   "execution_count": null,
   "metadata": {},
   "outputs": [],
   "source": [
    "x_data_file = 'INPUT.csv'\n",
    "y_data_file='OUTPUT.csv'\n",
    "coor_file='COORDINATES.csv'\n",
    "#max_radius=200\n",
    "X = load_csv_file(x_data_file)\n",
    "Y = load_csv_file(y_data_file)\n",
    "coordinates = load_csv_file(coor_file)\n",
    "coor_dist = coordinates_distance(coordinates)\n",
    "normalize = preprocessing.StandardScaler().fit(X)\n",
    "X = normalize.transform(X)\n",
    "\n"
   ]
  },
  {
   "cell_type": "code",
   "execution_count": null,
   "metadata": {},
   "outputs": [],
   "source": [
    "main_function(x_data_file, y_data_file, coor_file,  200)"
   ]
  },
  {
   "cell_type": "code",
   "execution_count": 9,
   "metadata": {
    "scrolled": true
   },
   "outputs": [
    {
     "name": "stdout",
     "output_type": "stream",
     "text": [
      "The optimum and highest C index corresponding to that is : {0: (9, 0.7212898398357059), 10: (9, 0.7124014284734345), 20: (7, 0.7113787904452991), 30: (9, 0.7059586689046644), 40: (7, 0.7033439773549723), 50: (9, 0.6997472453169338), 60: (9, 0.697312092887171), 70: (9, 0.6922297008801267), 80: (9, 0.6898095975383892), 90: (7, 0.6885325249289893), 100: (7, 0.6857144957015605), 110: (7, 0.6515901636360837), 120: (7, 0.6347432345599857), 130: (7, 0.6260641105149028), 140: (7, 0.6236450571095392), 150: (7, 0.6208721751461861), 160: (7, 0.6221719963770196), 170: (7, 0.622190895231749), 180: (7, 0.6213397468113432), 190: (7, 0.621237553004288), 200: (7, 0.6191219312109686)}\n"
     ]
    }
   ],
   "source": [
    "print ('The optimum and highest C index corresponding to that is :',C_score)"
   ]
  },
  {
   "cell_type": "code",
   "execution_count": 10,
   "metadata": {},
   "outputs": [],
   "source": [
    "# X = [[0, 1], [1, 1], [1, 2]]\n",
    "# euclidean_distances(X, X)"
   ]
  },
  {
   "cell_type": "code",
   "execution_count": 11,
   "metadata": {},
   "outputs": [],
   "source": [
    "radius=[] #stores the radius\n",
    "cindex_optk=[] #stores the c index corresponding to optimum k\n",
    "for key, value in C_score.items():\n",
    "    cindex_optk.append((C_score[key][1]))\n",
    "    radius.append(key)\n"
   ]
  },
  {
   "cell_type": "code",
   "execution_count": 12,
   "metadata": {},
   "outputs": [
    {
     "data": {
      "image/png": "[encoded data removed]",
      "text/plain": [
       "<Figure size 432x288 with 1 Axes>"
      ]
     },
     "metadata": {},
     "output_type": "display_data"
    }
   ],
   "source": [
    "%matplotlib inline\n",
    "\n",
    "\n",
    "import matplotlib.pyplot as plt\n",
    "plt.style.use('seaborn-whitegrid')\n",
    "import numpy as np\n",
    "plt.xlabel('Radius')\n",
    "plt.ylabel('C index values of optimum k')\n",
    "plt.plot(radius,cindex_optk);"
   ]
  },
  {
   "cell_type": "markdown",
   "metadata": {},
   "source": [
    "Discussion:\n",
    "I have done some modifications on my previous work. Now i have a dictionary which stores the c index of various the optimum k. Here leave spatial out cross validation (modified form of Leave one out) has been performed by skipping the data points in a particular radius. As the radius increases, the c index decreases. \n",
    "\n",
    "By implementing spatial LOO CV, becasue higher accuracy is not always the best performance metric when the data which lie together are very idendical. "
   ]
  },
  {
   "cell_type": "code",
   "execution_count": null,
   "metadata": {},
   "outputs": [],
   "source": []
  }
 ],
 "metadata": {
  "kernelspec": {
   "display_name": "Python 3",
   "language": "python",
   "name": "python3"
  },
  "language_info": {
   "codemirror_mode": {
    "name": "ipython",
    "version": 3
   },
   "file_extension": ".py",
   "mimetype": "text/x-python",
   "name": "python",
   "nbconvert_exporter": "python",
   "pygments_lexer": "ipython3",
   "version": "3.7.1"
  }
 },
 "nbformat": 4,
 "nbformat_minor": 2
}
