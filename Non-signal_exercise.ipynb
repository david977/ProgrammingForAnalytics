{
 "cells": [
  {
   "cell_type": "markdown",
   "metadata": {},
   "source": [
    "# Non-signal data exercise\n",
    "\n",
    "In this exercise you take on the role of a senior data analyst correcting mistakes made by a junior analyst. Your consulting company has received the MysteryData data set, and your goal is to build a classifier out of it, and evaluate how well the classifer works. You assigned the job to junior trainee Tux the Linux Penguin (who works for food).\n",
    "\n",
    "Tux is very excited to work on the data and has produced very promising results. What Tux does not yet know is that MysteryData is actually just random non-signal data where the features x and the class label y are independent of each other - it is not possible to learn anything meaningful from this data. Tux has never taken any of the UTU data analytics courses and has not noticed this. You should help Tux to correct the analyses, so you do not end up reporting incorrect results to your customers.\n",
    "\n",
    "You will write your answers inside this notebook. If all your answers are correct, your explanations thorough, and you solve the bonus questions, you will get a bonus point. Use written text, code, printouts or visualizations in you answers as needed. Return both this notebook filled (rename it lastname_firstname_studentid.ipynb), as well as a pdf export of the same notebook (same naming, but .pdf instead).\n",
    "\n",
    "The analysed problem is a binary classification task. We will follow the convention of using +1 to represent the positive class, and -1 the negative. In all but one task we will use area under ROC curve (AUC) to evaluate how well the classifier predicts. For binary classification tasks AUC and c-index are equivalent, 0.5 means random performance and 1.0 perfect predictions. The \"true\" AUC you would expect to see on a large enough sample of independent test data for any classifier trained on non-signal data is 0.5.\n",
    "\n",
    "Note that amount of samples, features, and class distribution for MysteryData can differ in different parts of the exercise (these are always written in comments above the code generating the data). Also, in one case there will be a data set on which it is possible to learn better than random classifier.\n",
    "\n",
    "Some notes on the codes:\n",
    "- we use predict_proba() instead of predict() when using AUC, because the predicted class probabilities are needed for computing AUC properly (predict() returns only +1/-1 values)\n",
    "- random seeds are fixed to guarantee that re-running the codes gives same results"
   ]
  },
  {
   "cell_type": "code",
   "execution_count": 1,
   "metadata": {},
   "outputs": [],
   "source": [
    "%matplotlib inline\n",
    "import numpy as np\n",
    "\n",
    "#The data, trust me, you can't learn anything useful from this\n",
    "def load_mystery_data(samples, features, positives, random_seed):\n",
    "    #samples: sample size\n",
    "    #features: number of features\n",
    "    #positives: number of positive examples, positives <= samples\n",
    "    #random_seed: initializes the random generator\n",
    "    assert positives <= samples\n",
    "    rand_state = np.random.RandomState(random_seed)\n",
    "    #values in X are from normal distribution, with zero mean, unit variance, zero covariance\n",
    "    X = rand_state.randn(samples, features)\n",
    "    #y is a randomly shuffled vector of +1 and -1 values\n",
    "    y = np.hstack((np.ones(positives), -1.*np.ones(samples-positives)))\n",
    "    y = rand_state.permutation(y)\n",
    "    return X, y"
   ]
  },
  {
   "cell_type": "markdown",
   "metadata": {},
   "source": [
    "# Part 1: some elementary mistakes\n",
    "\n",
    "## Lesson 1.1: never trust your ----- set performance\n",
    "\n",
    "The first analysis done by Tux contains an obvious elementary mistake."
   ]
  },
  {
   "cell_type": "code",
   "execution_count": 2,
   "metadata": {},
   "outputs": [
    {
     "name": "stdout",
     "output_type": "stream",
     "text": [
      "I got area under ROC curve 0.885600\n",
      "Tux: \"I got very high AUC, problem solved!!\"\n"
     ]
    }
   ],
   "source": [
    "#100 samples, 100 features, 50 belong to positive class\n",
    "X, y = load_mystery_data(100, 100, 50, 2)\n",
    "\n",
    "#I am going to try knn on my data!!!\n",
    "from sklearn.neighbors import KNeighborsClassifier\n",
    "from sklearn.metrics import roc_auc_score\n",
    "\n",
    "\n",
    "learner = KNeighborsClassifier(n_neighbors=2)\n",
    "learner.fit(X, y)\n",
    "#get the estimated probability of belonging to class 1\n",
    "p = learner.predict_proba(X)[:,1]\n",
    "auc = roc_auc_score(y, p)\n",
    "print(\"I got area under ROC curve %f\" % auc)\n",
    "print('Tux: \"I got very high AUC, problem solved!!\"')"
   ]
  },
  {
   "cell_type": "markdown",
   "metadata": {},
   "source": [
    "## Question 1.1\n",
    "Why can't you trust the AUC result of Tux?"
   ]
  },
  {
   "cell_type": "markdown",
   "metadata": {},
   "source": [
    "The reason we cant trust the AUC result of Tux is that this is a Non signal data and features are not related to target. \n",
    "Also, the Test set not isolated from the original dataset. "
   ]
  },
  {
   "cell_type": "markdown",
   "metadata": {},
   "source": [
    "## Write your answer to question 1.1 here"
   ]
  },
  {
   "cell_type": "markdown",
   "metadata": {},
   "source": [
    "## Lesson 1.2: trivial baselines\n",
    "\n",
    "The second analysis done by Tux is done a bit better, but analysis of results contains another elementary mistake."
   ]
  },
  {
   "cell_type": "code",
   "execution_count": 3,
   "metadata": {},
   "outputs": [
    {
     "name": "stdout",
     "output_type": "stream",
     "text": [
      "[0.  0.1 0.  0.  0.1 0.1 0.  0.2 0.1 0.1 0.1 0.  0.2 0.3 0.3 0.1 0.2 0.1\n",
      " 0.1 0.1 0.1 0.2 0.  0.1 0.  0.1 0.1 0.1 0.  0.1 0.1 0.  0.1 0.2 0.  0.1\n",
      " 0.2 0.  0.2 0.  0.2 0.1 0.  0.2 0.  0.1 0.  0.2 0.2 0.2 0.1 0.  0.1 0.2\n",
      " 0.1 0.2 0.  0.1 0.2 0.1 0.1 0.  0.1 0.1 0.1 0.  0.1 0.2 0.1 0.2 0.1 0.1\n",
      " 0.  0.1 0.5 0.4 0.1 0.1 0.1 0.  0.2 0.2 0.1 0.1 0.  0.1 0.1 0.2 0.  0.1\n",
      " 0.1 0.2 0.1 0.  0.1 0.2 0.3 0.  0.  0.3 0.3 0.  0.  0.  0.1 0.2 0.  0.1\n",
      " 0.1 0.1 0.2 0.1 0.  0.1 0.  0.  0.  0.1 0.1 0.  0.1 0.  0.3 0.2 0.1 0.2\n",
      " 0.1 0.1 0.1 0.2 0.1 0.3 0.1 0.1 0.1 0.2 0.1 0.  0.  0.2 0.  0.1 0.  0.1\n",
      " 0.  0.1 0.1 0.  0.1 0.2 0.1 0.1 0.1 0.3 0.2 0.4 0.1 0.  0.  0.1 0.2 0.\n",
      " 0.1 0.  0.1 0.1 0.  0.1 0.1 0.  0.  0.  0.1 0.1 0.  0.2 0.  0.1 0.2 0.\n",
      " 0.2 0.  0.2 0.2 0.  0.1 0.1 0.1 0.  0.2 0.2 0.1 0.  0.1 0.1 0.3 0.2 0.2\n",
      " 0.1 0.  0.3 0.1 0.1 0.2 0.1 0.  0.  0.  0.1 0.  0.2 0.  0.1 0.  0.1 0.\n",
      " 0.  0.2 0.1 0.  0.  0.  0.  0.2 0.3 0.  0.2 0.2 0.  0.3 0.1 0.  0.2 0.2\n",
      " 0.1 0.1 0.1 0.3 0.3 0.1 0.  0.1 0.1 0.3 0.1 0.2 0.  0.2 0.2 0.3 0.1 0.1\n",
      " 0.2 0.1 0.  0.1 0.  0.  0.2 0.3 0.  0.  0.2 0.2 0.1 0.  0.1 0.2 0.  0.1\n",
      " 0.1 0.2 0.1 0.1 0.3 0.  0.1 0.  0.2 0.1 0.2 0.1 0.2 0.1 0.  0.2 0.  0.\n",
      " 0.1 0.1 0.4 0.1 0.1 0.2 0.  0.2 0.1 0.  0.2 0.1 0.1 0.  0.  0.1 0.2 0.2\n",
      " 0.  0.  0.2 0.  0.1 0.2 0.2 0.  0.2 0.2 0.  0.1 0.1 0.  0.  0.  0.1 0.1\n",
      " 0.  0.2 0.  0.1 0.2 0.2]\n",
      "[-1. -1. -1. -1. -1. -1. -1. -1. -1. -1. -1. -1. -1. -1. -1. -1. -1. -1.\n",
      " -1. -1. -1. -1. -1. -1. -1. -1. -1. -1. -1. -1. -1. -1. -1. -1. -1. -1.\n",
      " -1. -1. -1. -1. -1. -1. -1. -1. -1. -1. -1. -1. -1. -1. -1. -1. -1. -1.\n",
      " -1. -1. -1. -1. -1. -1. -1. -1. -1. -1. -1. -1. -1. -1. -1. -1. -1. -1.\n",
      " -1. -1. -1. -1. -1. -1. -1. -1. -1. -1. -1. -1. -1. -1. -1. -1. -1. -1.\n",
      " -1. -1. -1. -1. -1. -1. -1. -1. -1. -1. -1. -1. -1. -1. -1. -1. -1. -1.\n",
      " -1. -1. -1. -1. -1. -1. -1. -1. -1. -1. -1. -1. -1. -1. -1. -1. -1. -1.\n",
      " -1. -1. -1. -1. -1. -1. -1. -1. -1. -1. -1. -1. -1. -1. -1. -1. -1. -1.\n",
      " -1. -1. -1. -1. -1. -1. -1. -1. -1. -1. -1. -1. -1. -1. -1. -1. -1. -1.\n",
      " -1. -1. -1. -1. -1. -1. -1. -1. -1. -1. -1. -1. -1. -1. -1. -1. -1. -1.\n",
      " -1. -1. -1. -1. -1. -1. -1. -1. -1. -1. -1. -1. -1. -1. -1. -1. -1. -1.\n",
      " -1. -1. -1. -1. -1. -1. -1. -1. -1. -1. -1. -1. -1. -1. -1. -1. -1. -1.\n",
      " -1. -1. -1. -1. -1. -1. -1. -1. -1. -1. -1. -1. -1. -1. -1. -1. -1. -1.\n",
      " -1. -1. -1. -1. -1. -1. -1. -1. -1. -1. -1. -1. -1. -1. -1. -1. -1. -1.\n",
      " -1. -1. -1. -1. -1. -1. -1. -1. -1. -1. -1. -1. -1. -1. -1. -1. -1. -1.\n",
      " -1. -1. -1. -1. -1. -1. -1. -1. -1. -1. -1. -1. -1. -1. -1. -1. -1. -1.\n",
      " -1. -1. -1. -1. -1. -1. -1. -1. -1. -1. -1. -1. -1. -1. -1. -1. -1. -1.\n",
      " -1. -1. -1. -1. -1. -1. -1. -1. -1. -1. -1. -1. -1. -1. -1. -1. -1. -1.\n",
      " -1. -1. -1. -1. -1. -1.]\n",
      "0.5823895520865219\n",
      "Classification accuracy: 0.900000\n",
      "Tux: \"I got 90% classification accuracy, problem solved!!\"\"\n"
     ]
    }
   ],
   "source": [
    "#1000 samples, 100 features, 100 belong to positive class\n",
    "#from sklearn.metrics import confusion_matrix\n",
    "X, y = load_mystery_data(1000, 100, 100, 1)\n",
    "\n",
    "#I am going to try knn on my data!!!\n",
    "from sklearn.neighbors import KNeighborsClassifier\n",
    "from sklearn.model_selection import train_test_split\n",
    "#Instead of AUC I will use classification accuracy!\n",
    "from sklearn.metrics import accuracy_score\n",
    "\n",
    "#Now I use a separate test set!\n",
    "X_train, X_test, y_train, y_test = train_test_split(X, y, test_size = 0.33, stratify=y, random_state=1)\n",
    "knn = KNeighborsClassifier(n_neighbors=10)\n",
    "knn.fit(X_train, y_train)\n",
    "p_test = knn.predict(X_test)\n",
    "prob=knn.predict_proba(X_test)[:,1]\n",
    "print (prob)\n",
    "\n",
    "\n",
    "print(p_test)\n",
    "accuracy = accuracy_score(y_test, p_test)\n",
    "#conf_mat=confusion_matrix(y_test,p_test)\n",
    "roc=roc_auc_score(y_test,prob)\n",
    "#print(conf_mat)\n",
    "print (roc)\n",
    "print(\"Classification accuracy: %f\" %accuracy)\n",
    "print('Tux: \"I got 90% classification accuracy, problem solved!!\"\"')"
   ]
  },
  {
   "cell_type": "markdown",
   "metadata": {},
   "source": [
    "## Question 1.2\n",
    "1. Does the high classification accuracy really mean that this is a good predictor?\n",
    "2. Look at the test set predictions in p_test, what has this classifier actually learned?\n",
    "3. What would the results look like if you used AUC instead of classification accuracy?"
   ]
  },
  {
   "cell_type": "markdown",
   "metadata": {},
   "source": [
    "## Write your answer to question 1.2 here"
   ]
  },
  {
   "cell_type": "markdown",
   "metadata": {},
   "source": [
    "1. No. Correspondingly the AUC should also be high\n",
    "2. We can say looking at p_test, the classifier is classifying mostly the majority class. \n",
    "3. Since AUC is around 0,5, even though the accuracy is high, we cannot trust the result "
   ]
  },
  {
   "cell_type": "markdown",
   "metadata": {},
   "source": [
    "# Part 2: introduction to permutation tests\n",
    "\n",
    "Next, we are using permutation tests to estimate, how likely we are to see AUC values as high as observed, if y is independent of x (non-signal data).\n",
    "\n",
    "The test is implemented as follows:\n",
    "- let AUC_original be the AUC obtained in the original analysis\n",
    "- For 1000 (or preferably more if you have enough CPU time to use) repetitions, shuffle the labels in y, then run the analysis again and compute the AUC value. Store all 1000 AUC values in a list.\n",
    "- Visualization: visualize the permutation distribution by plotting a histogram of the 1000 AUC values. Does AUC_original look like an outlier, or do you often get as good or better results with permuted class labels?\n",
    "- p-value: relative fraction of runs, where obtained AUC $\\geq$ AUC_original\n",
    "- example: AUC with original class labeling is 0.6. In 70 runs out of 1000, we obtain as high as or larger AUC. p-value is then $\\frac{70}{1000} = 0.07$ \n",
    "- result is considered statistically significant, if $p<\\alpha$, where $\\alpha$ a pre-specified significance level (often $\\alpha=0.05$ or $\\alpha=0.01$). Statistical significance does not mean that the results are good, only that the classifier has likely learned something from the data. In the following experiments, use $\\alpha=0.05$.\n",
    "\n",
    "## Lesson 2.1: sample size\n",
    "\n",
    "Tux is now analyzing a small data set with 5-fold cross-validation. "
   ]
  },
  {
   "cell_type": "code",
   "execution_count": 4,
   "metadata": {},
   "outputs": [
    {
     "name": "stdout",
     "output_type": "stream",
     "text": [
      "AUC: 0.700000\n",
      "Tux: \"I did proper cross-validation and got better than random results. My classifier learned something!!\"\n"
     ]
    }
   ],
   "source": [
    "#20 samples, 10 features, 10 belong to positive class\n",
    "X, y = load_mystery_data(20, 10, 10, 10)\n",
    "\n",
    "from sklearn.neighbors import KNeighborsClassifier\n",
    "from sklearn.model_selection import StratifiedKFold\n",
    "from sklearn.metrics import roc_auc_score\n",
    "\n",
    "cv = StratifiedKFold(n_splits=5)\n",
    "cv_aucs = []\n",
    "for train, test in cv.split(X, y):\n",
    "    X_train = X[train]\n",
    "    y_train = y[train]\n",
    "    X_test = X[test]\n",
    "    y_test = y[test]\n",
    "    knn = KNeighborsClassifier(n_neighbors=3)\n",
    "    knn.fit(X_train, y_train)\n",
    "    p_test = knn.predict_proba(X_test)[:,1]\n",
    "    auc = roc_auc_score(y_test, p_test)\n",
    "    cv_aucs.append(auc)\n",
    "auc = np.mean(cv_aucs)\n",
    "print(\"AUC: %f\" %auc)\n",
    "print('Tux: \"I did proper cross-validation and got better than random results. My classifier learned something!!\"')"
   ]
  },
  {
   "cell_type": "markdown",
   "metadata": {},
   "source": [
    "## Question 2.1\n",
    "Implement a permutation test for the above analysis, are these results statistically significant with $\\alpha=0.05$? Provide both visualization of the permutation distribution, as well as the p-value."
   ]
  },
  {
   "cell_type": "code",
   "execution_count": 5,
   "metadata": {},
   "outputs": [
    {
     "name": "stdout",
     "output_type": "stream",
     "text": [
      "Permuting and running\n",
      "The result is not statistically significant\n"
     ]
    },
    {
     "data": {
      "image/png": "[encoded data removed]",
      "text/plain": [
       "<Figure size 432x288 with 1 Axes>"
      ]
     },
     "metadata": {
      "needs_background": "light"
     },
     "output_type": "display_data"
    }
   ],
   "source": [
    "import matplotlib.pyplot as plt\n",
    "np.random.shuffle(y)\n",
    "aucperm=[]  #To store the AUC score after permutation\n",
    "p_counts =  0\n",
    "print ('Permuting and running')\n",
    "for i in range (1000): #Permute 1000 times\n",
    "    y = np.random.permutation(y)\n",
    "    cv_aucs = [] #Each CV score.\n",
    "    for train, test in cv.split(X, y):\n",
    "        X_train = X[train]\n",
    "        y_train = y[train]\n",
    "        X_test = X[test]\n",
    "        y_test = y[test]\n",
    "        knn = KNeighborsClassifier(n_neighbors=3)\n",
    "        knn.fit(X_train, y_train)\n",
    "        p_test = knn.predict_proba(X_test)[:,1]\n",
    "        auc = roc_auc_score(y_test, p_test)\n",
    "        cv_aucs.append(auc)\n",
    "    \n",
    "    auc = np.mean(cv_aucs)\n",
    "    aucperm.append(auc)\n",
    "\n",
    "    #check original auc with current auc\n",
    "    if auc >= 0.7:\n",
    "        p_counts+=1\n",
    "    p_val=p_counts/1000\n",
    "if p_val < 0.05:\n",
    "    print ('Classifier learnt something from the data')\n",
    "else:\n",
    "    print ('The result is not statistically significant')\n",
    "    \n",
    "plt.figure()\n",
    "axes=plt.gca()  \n",
    "\n",
    "plt.hist(aucperm)\n",
    "ylim=axes.get_ylim()\n",
    "plt.xlabel('AUC score')\n",
    "plt.ylabel('Permutation frequency')\n",
    "plt.plot([.7,.7],ylim,'--g',linewidth=2,label='Original Auc') #0.7 is the auc obtained by Tux\n",
    "\n",
    "plt.legend()\n",
    "plt.show()"
   ]
  },
  {
   "cell_type": "markdown",
   "metadata": {},
   "source": [
    "From the visualization we can see that the p value is greater than .7 and so the result is not statistically significant"
   ]
  },
  {
   "cell_type": "markdown",
   "metadata": {},
   "source": [
    "## Lesson 2.2: sample size again\n",
    "\n",
    "Let's give poor Tux a better data set that actually has clear difference between the classes and see how things work out. (on this data it is possible to obtain true AUC larger than 0.5)"
   ]
  },
  {
   "cell_type": "code",
   "execution_count": 6,
   "metadata": {},
   "outputs": [],
   "source": [
    "def load_new_mystery_data(samples, features, positives, random_seed):\n",
    "    #samples: sample size\n",
    "    #features: number of positive examples, positives <= samples\n",
    "    #random_seed: initializes the random generator\n",
    "    assert positives <= samples\n",
    "    rand_state = np.random.RandomState(random_seed)\n",
    "    #values in X are from normal distribution, with zero mean, unit variance, zero covariance\n",
    "    X_pos = rand_state.randn(positives, features)\n",
    "    X_neg = rand_state.randn(samples-positives, features)+0.65\n",
    "    X = np.vstack((X_pos, X_neg))\n",
    "    #y is a randomly shuffled vector of +1 and -1 values\n",
    "    y = np.hstack((np.ones(positives), -1.*np.ones(samples-positives)))\n",
    "    I = rand_state.permutation(samples)\n",
    "    X = X[I]\n",
    "    y = y[I]\n",
    "    return X, y\n"
   ]
  },
  {
   "cell_type": "code",
   "execution_count": 7,
   "metadata": {},
   "outputs": [
    {
     "name": "stdout",
     "output_type": "stream",
     "text": [
      "[-1.  1. -1. -1.  1. -1. -1. -1.  1.  1.  1.  1.  1.  1. -1.  1. -1. -1.\n",
      " -1.  1.]\n",
      "[[ 1.16071441  1.06429764  1.99454942  1.14351532  0.41299582  0.70728515\n",
      "  -0.05707145  1.19666484  1.59250041 -2.32959677]\n",
      " [-1.97772828 -1.7433723   0.26607016  2.38496733  1.12369125  1.67262221\n",
      "   0.09914922  1.39799638 -0.27124799  0.61320418]\n",
      " [-0.77088052 -0.02894677  1.18388481  1.3939744   2.87504964  0.76718142\n",
      "   0.89461452  0.47270118  0.24427047  1.43177519]\n",
      " [ 0.07688664 -0.67044755  1.88620533  3.11532508  2.03323223  0.99623312\n",
      "   1.67251611  0.81681027  2.30671662  1.31788961]\n",
      " [-0.23218226 -0.5017289   1.12878515 -0.69781003 -0.08112218 -0.52929608\n",
      "   1.04618286 -1.41855603 -0.36249918 -0.12190569]\n",
      " [ 0.42005336 -0.47955119  0.0100374   0.96383052 -0.57583598  0.42820686\n",
      "   1.98992631  0.67930971  2.63538575  2.0971656 ]\n",
      " [ 0.94294072  0.17919275  3.05432561 -0.08935674  0.33717124  0.30111808\n",
      "   0.21097376  0.79110417  0.92304932 -0.96857075]\n",
      " [ 0.36237059 -0.70931057  0.60195867  0.16921266  1.02775309  2.26440797\n",
      "  -0.47310404  0.26127205  0.98234995  1.78497317]\n",
      " [ 0.66023155 -0.35087189 -0.93943336 -0.48933722 -0.80459114 -0.21269764\n",
      "  -0.33914025  0.31216994  0.56515267 -0.14742026]\n",
      " [-0.02590534  0.2890942  -0.53987907  0.70816002  0.84222474  0.2035808\n",
      "   2.39470366  0.91745894 -0.11227247 -0.36218045]\n",
      " [ 0.43302619  1.20303737 -0.96506567  1.02827408  0.22863013  0.44513761\n",
      "  -1.13660221  0.13513688  1.484537   -1.07980489]\n",
      " [ 1.98508459  1.74481415 -1.85618548 -0.2227737  -0.06584785 -2.13171211\n",
      "  -0.04883051  0.39334122  0.21726515 -1.99439377]\n",
      " [ 1.3315865   0.71527897 -1.54540029 -0.00838385  0.62133597 -0.72008556\n",
      "   0.26551159  0.10854853  0.00429143 -0.17460021]\n",
      " [-0.26731719 -0.54930901  0.1327083  -0.47614201  1.30847308  0.19501328\n",
      "   0.40020999 -0.33763234  1.25647226 -0.7319695 ]\n",
      " [ 1.00347761  0.44272051 -0.42969738  0.52693017  0.25901781  1.90517373\n",
      "   1.59712608 -0.37231069  1.81716837  0.07802319]\n",
      " [ 0.31935642  0.4609029  -0.21578989  0.98907246  0.31475378  2.46765106\n",
      "  -1.50832149  0.62060066 -1.04513254 -0.79800882]\n",
      " [ 0.76747566 -1.25745689 -0.27290926  1.11975143  0.50563324  0.24986165\n",
      "   0.35401615  1.49820861  1.35683045 -0.13726893]\n",
      " [-1.0610712   1.26229731  1.75012937  1.21435253 -0.06279944  0.38914052\n",
      "   1.19842807  1.25319905  1.65686114  0.35557399]\n",
      " [ 1.86814885  0.59347928  1.11088845  1.31237401 -1.64510333 -0.54592931\n",
      "   0.31689884 -0.14139077  0.92417278  0.13509008]\n",
      " [ 1.10770823  0.24454398 -0.06191203 -0.75389296  0.71195902  0.91826915\n",
      "  -0.48209314  0.08958761  0.82699862 -1.95451212]]\n",
      "AUC: 0.875000\n",
      "Tux: \"Not sure if I can trust the results anymore, my data set is really small! Please help me compute the p-value!!\"\n"
     ]
    }
   ],
   "source": [
    "#20 samples, 10 features, 10 belong to positive class\n",
    "X, y = load_new_mystery_data(20, 10, 10, 10)\n",
    "print (y)\n",
    "print (X)\n",
    "\n",
    "from sklearn.neighbors import KNeighborsClassifier\n",
    "from sklearn.model_selection import StratifiedKFold\n",
    "from sklearn.metrics import roc_auc_score\n",
    "\n",
    "cv = StratifiedKFold(n_splits=5)\n",
    "cv_aucs = []\n",
    "for train, test in cv.split(X, y):\n",
    "    X_train = X[train]\n",
    "    y_train = y[train]\n",
    "    X_test = X[test]\n",
    "    y_test = y[test]\n",
    "    knn = KNeighborsClassifier(n_neighbors=3)\n",
    "    knn.fit(X_train, y_train)\n",
    "    p_test = knn.predict_proba(X_test)[:,1]\n",
    "    auc = roc_auc_score(y_test, p_test)\n",
    "    cv_aucs.append(auc)\n",
    "cv_auc = np.mean(cv_aucs)\n",
    "print(\"AUC: %f\" %cv_auc)\n",
    "print('Tux: \"Not sure if I can trust the results anymore, my data set is really small! Please help me compute the p-value!!\"')"
   ]
  },
  {
   "cell_type": "code",
   "execution_count": 8,
   "metadata": {},
   "outputs": [
    {
     "name": "stdout",
     "output_type": "stream",
     "text": [
      "Classifier learnt something from the data\n"
     ]
    },
    {
     "data": {
      "image/png": "[encoded data removed]",
      "text/plain": [
       "<Figure size 432x288 with 1 Axes>"
      ]
     },
     "metadata": {
      "needs_background": "light"
     },
     "output_type": "display_data"
    },
    {
     "name": "stdout",
     "output_type": "stream",
     "text": [
      "0.003\n"
     ]
    }
   ],
   "source": [
    "import matplotlib.pyplot as plt\n",
    "np.random.shuffle(y)\n",
    "aucperm=[] #CV scores \n",
    "p_counts =  0 #Probability count\n",
    "for i in range (1000):\n",
    "    y = np.random.permutation(y)\n",
    "    cv_aucs = []\n",
    "    for train, test in cv.split(X, y):\n",
    "        X_train = X[train]\n",
    "        y_train = y[train]\n",
    "        X_test = X[test]\n",
    "        y_test = y[test]\n",
    "        knn = KNeighborsClassifier(n_neighbors=3)\n",
    "        knn.fit(X_train, y_train)\n",
    "        p_test = knn.predict_proba(X_test)[:,1]\n",
    "        auc = roc_auc_score(y_test, p_test)\n",
    "        cv_aucs.append(auc)\n",
    "    \n",
    "    auc = np.mean(cv_aucs)\n",
    "    aucperm.append(auc)\n",
    "\n",
    "    #check original auc with current auc\n",
    "    if auc >= 0.87:\n",
    "        p_counts+=1\n",
    "    p_val=p_counts/1000\n",
    "if p_val < 0.05:\n",
    "    print ('Classifier learnt something from the data')\n",
    "else:\n",
    "    print ('The result is not statistically significant')\n",
    "    \n",
    "plt.figure()\n",
    "axes=plt.gca()  \n",
    "#plt.plot([],aucperm,label='Actual AUC')\n",
    "\n",
    "plt.hist(aucperm)\n",
    "ylim=axes.get_ylim()\n",
    "plt.xlabel('AUC score')\n",
    "plt.ylabel('Permutation frequency')\n",
    "plt.plot([.87,.87],ylim,'--g',linewidth=2,label='Original Auc')\n",
    "\n",
    "plt.legend()\n",
    "plt.show()\n",
    "print (p_val)"
   ]
  },
  {
   "cell_type": "markdown",
   "metadata": {},
   "source": [
    "## Question 2.2\n",
    "Implement a permutation test for the above analysis, are these results statistically significant with $\\alpha=0.05$? Provide both visualization of the permutation distribution, as well as the p-value.\n",
    "\n"
   ]
  },
  {
   "cell_type": "markdown",
   "metadata": {},
   "source": [
    "Here we can see that p value is less than the alpha. So the model is likely to have learnt better than before "
   ]
  },
  {
   "cell_type": "markdown",
   "metadata": {},
   "source": [
    "# Part 3: mis-using feature selection\n",
    "\n",
    "Here is a very simple correlation based feature selection method"
   ]
  },
  {
   "cell_type": "code",
   "execution_count": 9,
   "metadata": {},
   "outputs": [],
   "source": [
    "from scipy.stats import kendalltau\n",
    "\n",
    "def select(X, Y, scount):\n",
    "    #select scount features from X with highest correlation with Y\n",
    "    correlations = []\n",
    "    for i in range(X.shape[1]):\n",
    "        corr = kendalltau(X[:,i], Y)[0]\n",
    "\n",
    "        correlations.append(np.abs(corr))\n",
    "    correlations = np.array(correlations)\n",
    "    I = np.argsort(correlations)\n",
    "    #break\n",
    "    I = I[::-1]\n",
    "\n",
    "    return X[:,I[:scount]]\n"
   ]
  },
  {
   "cell_type": "code",
   "execution_count": 10,
   "metadata": {},
   "outputs": [
    {
     "name": "stdout",
     "output_type": "stream",
     "text": [
      "Tux: \"My CV-AUC before feature selection is 0.496000\"\n",
      "Tux: \"My CV-AUC after feature selection is 0.808000, it really works!!\"\n"
     ]
    }
   ],
   "source": [
    "#50 samples, 1000 features, 25 belong to positive class\n",
    "X, y = load_mystery_data(50, 1000, 25, 1)\n",
    "\n",
    "from sklearn.neighbors import KNeighborsClassifier\n",
    "from sklearn.model_selection import StratifiedKFold\n",
    "from sklearn.metrics import roc_auc_score\n",
    "\n",
    "\n",
    "cv = StratifiedKFold(n_splits=5)\n",
    "cv_aucs = []\n",
    "for train, test in cv.split(X, y):\n",
    "    X_train = X[train]\n",
    "    y_train = y[train]\n",
    "    X_test = X[test]\n",
    "    y_test = y[test]\n",
    "    knn = KNeighborsClassifier(n_neighbors=3)\n",
    "    knn.fit(X_train, y_train)\n",
    "    p_test = knn.predict_proba(X_test)[:,1]\n",
    "    auc = roc_auc_score(y_test, p_test)\n",
    "    cv_aucs.append(auc)\n",
    "cv_auc = np.mean(cv_aucs)\n",
    "print('Tux: \"My CV-AUC before feature selection is %f\"' %cv_auc)\n",
    "\n",
    "\n",
    "#I'm going to improve my AUC with feature selection!!!\n",
    "X_fs = select(X, y, 5)\n",
    "cv_aucs = []\n",
    "for train, test in cv.split(X_fs, y):\n",
    "    X_train = X_fs[train]\n",
    "    y_train = y[train]\n",
    "    X_test = X_fs[test]\n",
    "    y_test = y[test]\n",
    "    knn = KNeighborsClassifier(n_neighbors=3)\n",
    "    knn.fit(X_train, y_train)\n",
    "    p_test = knn.predict_proba(X_test)[:,1]\n",
    "    auc = roc_auc_score(y_test, p_test)\n",
    "    cv_aucs.append(auc)\n",
    "cv_auc = np.mean(cv_aucs)\n",
    "print('Tux: \"My CV-AUC after feature selection is %f, it really works!!\"' %cv_auc)"
   ]
  },
  {
   "cell_type": "markdown",
   "metadata": {},
   "source": [
    "## Question 3.1\n",
    "\n",
    "Use permutation test to show Tux that the feature selection based classification approach is actually not learning anything from the data ($\\alpha=0.05$, provide both visualization of the permutation distribution, as well as the p-value). Running the test may take a while. Analyse what is going on here, why did the results look so good?"
   ]
  },
  {
   "cell_type": "code",
   "execution_count": 11,
   "metadata": {},
   "outputs": [
    {
     "name": "stdout",
     "output_type": "stream",
     "text": [
      "The result is not statistically significant\n"
     ]
    },
    {
     "data": {
      "image/png": "[encoded data removed]",
      "text/plain": [
       "<Figure size 432x288 with 1 Axes>"
      ]
     },
     "metadata": {
      "needs_background": "light"
     },
     "output_type": "display_data"
    },
    {
     "name": "stdout",
     "output_type": "stream",
     "text": [
      "0.671\n"
     ]
    }
   ],
   "source": [
    "import matplotlib.pyplot as plt\n",
    "import numpy as np\n",
    "np.random.shuffle(y)\n",
    "aucperm=[]  #To store the auc scores for each permutation. \n",
    "p_counts =  0\n",
    "\n",
    "\n",
    "for i in range (1000):\n",
    "    y = np.random.permutation(y)\n",
    "    X_fs = select(X, y, 5)\n",
    "\n",
    "    cv_aucs = []\n",
    "    for train, test in cv.split(X_fs, y):\n",
    "        X_train = X_fs[train]\n",
    "        y_train = y[train]\n",
    "        X_test = X_fs[test]\n",
    "        y_test = y[test]\n",
    "        knn = KNeighborsClassifier(n_neighbors=3)\n",
    "        knn.fit(X_train, y_train)\n",
    "        p_test = knn.predict_proba(X_test)[:,1]\n",
    "        auc = roc_auc_score(y_test, p_test)\n",
    "        cv_aucs.append(auc)\n",
    "    \n",
    "    auc = np.mean(cv_aucs)\n",
    "    aucperm.append(auc)\n",
    "\n",
    "    #check original auc with current auc\n",
    "    if auc >= 0.808:\n",
    "        p_counts+=1\n",
    "    p_val=p_counts/1000 #fraction of permuted tests greater than original auc\n",
    "if p_val < 0.05:\n",
    "    print ('Classifier learnt something from the data')\n",
    "else:\n",
    "    print ('The result is not statistically significant')\n",
    "    \n",
    "plt.figure()\n",
    "axes=plt.gca()  \n",
    "\n",
    "plt.hist(aucperm)\n",
    "ylim=axes.get_ylim()\n",
    "plt.xlabel('AUC score')\n",
    "plt.ylabel('Permutation frequency')\n",
    "plt.plot([.808,.808],ylim,'--r',linewidth=2,label='Original Auc')\n",
    "\n",
    "plt.legend()\n",
    "plt.show()\n",
    "print (p_val)"
   ]
  },
  {
   "cell_type": "markdown",
   "metadata": {},
   "source": [
    "Here we do the feature selection before CV. Since the p value obtained is greater than alpha value, we conclude that the result is not statistically significant. \n",
    "Tux had done feature selection before CV, which is not reliable approach. "
   ]
  },
  {
   "cell_type": "markdown",
   "metadata": {},
   "source": [
    "## Question 3.2 (bonus exercise)\n",
    "\n",
    "Correct the bias in above example by combining feature selection properly with cross-validation, run the experiment again. Do also a permutation test for this experiment with as many permutations as you can afford in a reasonable amount of time."
   ]
  },
  {
   "cell_type": "code",
   "execution_count": 12,
   "metadata": {},
   "outputs": [],
   "source": [
    "def select_index(X,Y,scount):\n",
    "\n",
    "    #select scount features from X with highest correlation with Y\n",
    "    correlations = []\n",
    "    for i in range(X.shape[1]):\n",
    "        corr = kendalltau(X[:,i], Y)[0]\n",
    "\n",
    "        correlations.append(np.abs(corr))\n",
    "    correlations = np.array(correlations)\n",
    "    I = np.argsort(correlations)\n",
    "    #break\n",
    "    I = I[::-1] ##Take indexes of only the highest correlated features. \n",
    "\n",
    "    return I[:scount]"
   ]
  },
  {
   "cell_type": "code",
   "execution_count": 23,
   "metadata": {},
   "outputs": [
    {
     "name": "stdout",
     "output_type": "stream",
     "text": [
      "0.492\n",
      "The result is not statistically significant\n"
     ]
    },
    {
     "data": {
      "image/png": "[encoded data removed]",
      "text/plain": [
       "<Figure size 432x288 with 1 Axes>"
      ]
     },
     "metadata": {
      "needs_background": "light"
     },
     "output_type": "display_data"
    },
    {
     "name": "stdout",
     "output_type": "stream",
     "text": [
      "0.46\n"
     ]
    }
   ],
   "source": [
    "import matplotlib.pyplot as plt\n",
    "import numpy as np\n",
    "#np.random.shuffle(y)\n",
    "aucperm=[]\n",
    "run_counts =  0\n",
    "\n",
    "X, y = load_mystery_data(50, 1000, 25, 1)\n",
    "\n",
    "cv_aucs = []\n",
    "for train, test in cv.split(X, y):\n",
    "    X_train = X[train]\n",
    "    y_train = y[train]\n",
    "    X_test = X[test]\n",
    "    y_test = y[test]\n",
    "        \n",
    "    #Column index for selected features\n",
    "    index=select_index(X_train,y_train,5)\n",
    "    X_train=X_train[:,index]#for the CV (5 only)\n",
    "    X_test=X_test[:,index]\n",
    "    knn = KNeighborsClassifier(n_neighbors=3)\n",
    "    knn.fit(X_train, y_train)\n",
    "    p_test = knn.predict_proba(X_test)[:,1]\n",
    "    auc = roc_auc_score(y_test, p_test)\n",
    "    cv_aucs.append(auc)\n",
    "    \n",
    "auc = np.mean(cv_aucs)\n",
    "print (auc)\n",
    "\n",
    "\n",
    "for i in range (100):\n",
    "    y = np.random.permutation(y)\n",
    "    #X_fs = select(X, y, 5)\n",
    "\n",
    "    cv_aucs = []\n",
    "    for train, test in cv.split(X, y):\n",
    "        X_train = X[train]\n",
    "        y_train = y[train]\n",
    "        X_test = X[test]\n",
    "        y_test = y[test]\n",
    "        \n",
    "        #Column index for selected features\n",
    "        index=select_index(X_train,y_train,5)\n",
    "        X_train=X_train[:,index]#for the CV\n",
    "        X_test=X_test[:,index]\n",
    "        knn = KNeighborsClassifier(n_neighbors=3)\n",
    "        knn.fit(X_train, y_train)\n",
    "        p_test = knn.predict_proba(X_test)[:,1] #probability for class 1 (positive)\n",
    "        auc_p = roc_auc_score(y_test, p_test)\n",
    "        cv_aucs.append(auc_p)\n",
    "    \n",
    "    auc_p = np.mean(cv_aucs)\n",
    "    aucperm.append(auc_p)\n",
    "\n",
    "    #compare auc of permuted test and without permuted\n",
    "    if auc_p >= auc:\n",
    "        run_counts+=1\n",
    "    p_val=run_counts/100 #fraction of permuted tests greater than original auc\n",
    "    \n",
    "#Checking significant threshold\n",
    "if p_val < 0.05:\n",
    "    print ('Classifier learnt something from the data')\n",
    "else:\n",
    "    print ('The result is not statistically significant')\n",
    "    \n",
    "plt.figure()\n",
    "axes=plt.gca()  \n",
    "\n",
    "plt.hist(aucperm)\n",
    "ylim=axes.get_ylim()\n",
    "plt.xlabel('AUC score')\n",
    "plt.ylabel('Permutation frequency')\n",
    "plt.plot([auc,auc],ylim,'--r',linewidth=2,label='Original Auc')\n",
    "\n",
    "plt.legend()\n",
    "plt.show()\n",
    "print (p_val)\n",
    "\n"
   ]
  },
  {
   "cell_type": "markdown",
   "metadata": {},
   "source": [
    "When we try CV without permutation, we get the auc score around 0,5. With permutation, we can see that the model cannot learn well from the data. "
   ]
  },
  {
   "cell_type": "code",
   "execution_count": null,
   "metadata": {},
   "outputs": [],
   "source": []
  }
 ],
 "metadata": {
  "kernelspec": {
   "display_name": "Python 3",
   "language": "python",
   "name": "python3"
  },
  "language_info": {
   "codemirror_mode": {
    "name": "ipython",
    "version": 3
   },
   "file_extension": ".py",
   "mimetype": "text/x-python",
   "name": "python",
   "nbconvert_exporter": "python",
   "pygments_lexer": "ipython3",
   "version": "3.7.1"
  }
 },
 "nbformat": 4,
 "nbformat_minor": 2
}
