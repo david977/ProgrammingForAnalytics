{
 "cells": [
  {
   "cell_type": "code",
   "execution_count": 1,
   "metadata": {},
   "outputs": [],
   "source": [
    "#import necessary libraries\n",
    "import pandas as pd\n",
    "import numpy as np\n",
    "import operator\n",
    "from scipy.stats import zscore\n",
    "from sklearn.neighbors import KNeighborsRegressor\n",
    "from sklearn.multioutput import MultiOutputRegressor"
   ]
  },
  {
   "cell_type": "code",
   "execution_count": 2,
   "metadata": {},
   "outputs": [
    {
     "data": {
      "text/html": [
       "<div>\n",
       "<style scoped>\n",
       "    .dataframe tbody tr th:only-of-type {\n",
       "        vertical-align: middle;\n",
       "    }\n",
       "\n",
       "    .dataframe tbody tr th {\n",
       "        vertical-align: top;\n",
       "    }\n",
       "\n",
       "    .dataframe thead th {\n",
       "        text-align: right;\n",
       "    }\n",
       "</style>\n",
       "<table border=\"1\" class=\"dataframe\">\n",
       "  <thead>\n",
       "    <tr style=\"text-align: right;\">\n",
       "      <th></th>\n",
       "      <th>c_total</th>\n",
       "      <th>Cd</th>\n",
       "      <th>Pb</th>\n",
       "      <th>Mod1</th>\n",
       "      <th>Mod2</th>\n",
       "      <th>Mod3</th>\n",
       "    </tr>\n",
       "  </thead>\n",
       "  <tbody>\n",
       "    <tr>\n",
       "      <th>0</th>\n",
       "      <td>35</td>\n",
       "      <td>0.0</td>\n",
       "      <td>35.0</td>\n",
       "      <td>11833</td>\n",
       "      <td>372</td>\n",
       "      <td>123683</td>\n",
       "    </tr>\n",
       "    <tr>\n",
       "      <th>1</th>\n",
       "      <td>35</td>\n",
       "      <td>7.0</td>\n",
       "      <td>28.0</td>\n",
       "      <td>13823</td>\n",
       "      <td>153</td>\n",
       "      <td>124594</td>\n",
       "    </tr>\n",
       "    <tr>\n",
       "      <th>2</th>\n",
       "      <td>500</td>\n",
       "      <td>100.0</td>\n",
       "      <td>400.0</td>\n",
       "      <td>228329</td>\n",
       "      <td>3068</td>\n",
       "      <td>11172</td>\n",
       "    </tr>\n",
       "    <tr>\n",
       "      <th>3</th>\n",
       "      <td>100</td>\n",
       "      <td>20.0</td>\n",
       "      <td>80.0</td>\n",
       "      <td>59842</td>\n",
       "      <td>6878</td>\n",
       "      <td>82562</td>\n",
       "    </tr>\n",
       "    <tr>\n",
       "      <th>4</th>\n",
       "      <td>50</td>\n",
       "      <td>50.0</td>\n",
       "      <td>0.0</td>\n",
       "      <td>223508</td>\n",
       "      <td>23349</td>\n",
       "      <td>135933</td>\n",
       "    </tr>\n",
       "  </tbody>\n",
       "</table>\n",
       "</div>"
      ],
      "text/plain": [
       "   c_total     Cd     Pb    Mod1   Mod2    Mod3\n",
       "0       35    0.0   35.0   11833    372  123683\n",
       "1       35    7.0   28.0   13823    153  124594\n",
       "2      500  100.0  400.0  228329   3068   11172\n",
       "3      100   20.0   80.0   59842   6878   82562\n",
       "4       50   50.0    0.0  223508  23349  135933"
      ]
     },
     "execution_count": 2,
     "metadata": {},
     "output_type": "execute_result"
    }
   ],
   "source": [
    "#Load dataset\n",
    "df = pd.read_csv('Water_data_shuffled.csv')\n",
    "df.head()"
   ]
  },
  {
   "cell_type": "markdown",
   "metadata": {},
   "source": [
    "The data is shuffled, so I have modified the dataframe here so that the replicas lie together and it is easy to do rest of the process"
   ]
  },
  {
   "cell_type": "code",
   "execution_count": 3,
   "metadata": {},
   "outputs": [
    {
     "name": "stdout",
     "output_type": "stream",
     "text": [
      "(201, 6)\n"
     ]
    },
    {
     "data": {
      "text/html": [
       "<div>\n",
       "<style scoped>\n",
       "    .dataframe tbody tr th:only-of-type {\n",
       "        vertical-align: middle;\n",
       "    }\n",
       "\n",
       "    .dataframe tbody tr th {\n",
       "        vertical-align: top;\n",
       "    }\n",
       "\n",
       "    .dataframe thead th {\n",
       "        text-align: right;\n",
       "    }\n",
       "</style>\n",
       "<table border=\"1\" class=\"dataframe\">\n",
       "  <thead>\n",
       "    <tr style=\"text-align: right;\">\n",
       "      <th></th>\n",
       "      <th>c_total</th>\n",
       "      <th>Cd</th>\n",
       "      <th>Pb</th>\n",
       "      <th>Mod1</th>\n",
       "      <th>Mod2</th>\n",
       "      <th>Mod3</th>\n",
       "    </tr>\n",
       "  </thead>\n",
       "  <tbody>\n",
       "    <tr>\n",
       "      <th>73</th>\n",
       "      <td>0</td>\n",
       "      <td>0.0</td>\n",
       "      <td>0.0</td>\n",
       "      <td>10812</td>\n",
       "      <td>120</td>\n",
       "      <td>98594</td>\n",
       "    </tr>\n",
       "    <tr>\n",
       "      <th>113</th>\n",
       "      <td>0</td>\n",
       "      <td>0.0</td>\n",
       "      <td>0.0</td>\n",
       "      <td>9945</td>\n",
       "      <td>119</td>\n",
       "      <td>72335</td>\n",
       "    </tr>\n",
       "    <tr>\n",
       "      <th>141</th>\n",
       "      <td>0</td>\n",
       "      <td>0.0</td>\n",
       "      <td>0.0</td>\n",
       "      <td>10786</td>\n",
       "      <td>117</td>\n",
       "      <td>82977</td>\n",
       "    </tr>\n",
       "    <tr>\n",
       "      <th>30</th>\n",
       "      <td>14</td>\n",
       "      <td>0.0</td>\n",
       "      <td>14.0</td>\n",
       "      <td>10566</td>\n",
       "      <td>108</td>\n",
       "      <td>136416</td>\n",
       "    </tr>\n",
       "    <tr>\n",
       "      <th>54</th>\n",
       "      <td>14</td>\n",
       "      <td>0.0</td>\n",
       "      <td>14.0</td>\n",
       "      <td>8495</td>\n",
       "      <td>120</td>\n",
       "      <td>131672</td>\n",
       "    </tr>\n",
       "  </tbody>\n",
       "</table>\n",
       "</div>"
      ],
      "text/plain": [
       "     c_total   Cd    Pb   Mod1  Mod2    Mod3\n",
       "73         0  0.0   0.0  10812   120   98594\n",
       "113        0  0.0   0.0   9945   119   72335\n",
       "141        0  0.0   0.0  10786   117   82977\n",
       "30        14  0.0  14.0  10566   108  136416\n",
       "54        14  0.0  14.0   8495   120  131672"
      ]
     },
     "execution_count": 3,
     "metadata": {},
     "output_type": "execute_result"
    }
   ],
   "source": [
    "#I have shuffled back the data and taking the replicas together.\n",
    "#group[1] is in dataframe. We concatenate it with the tuple of replicas. \n",
    "df_shuf = pd.concat( cols[1] for cols in df.groupby(['c_total','Cd','Pb'], sort=True) )\n",
    "print (df_shuf.shape)\n",
    "df_shuf.head()\n"
   ]
  },
  {
   "cell_type": "code",
   "execution_count": 4,
   "metadata": {},
   "outputs": [
    {
     "data": {
      "text/html": [
       "<div>\n",
       "<style scoped>\n",
       "    .dataframe tbody tr th:only-of-type {\n",
       "        vertical-align: middle;\n",
       "    }\n",
       "\n",
       "    .dataframe tbody tr th {\n",
       "        vertical-align: top;\n",
       "    }\n",
       "\n",
       "    .dataframe thead th {\n",
       "        text-align: right;\n",
       "    }\n",
       "</style>\n",
       "<table border=\"1\" class=\"dataframe\">\n",
       "  <thead>\n",
       "    <tr style=\"text-align: right;\">\n",
       "      <th></th>\n",
       "      <th>c_total</th>\n",
       "      <th>Cd</th>\n",
       "      <th>Pb</th>\n",
       "      <th>Mod1</th>\n",
       "      <th>Mod2</th>\n",
       "      <th>Mod3</th>\n",
       "    </tr>\n",
       "  </thead>\n",
       "  <tbody>\n",
       "    <tr>\n",
       "      <th>73</th>\n",
       "      <td>-0.56001</td>\n",
       "      <td>-0.440936</td>\n",
       "      <td>-0.440936</td>\n",
       "      <td>-0.962827</td>\n",
       "      <td>-0.669732</td>\n",
       "      <td>0.094875</td>\n",
       "    </tr>\n",
       "    <tr>\n",
       "      <th>113</th>\n",
       "      <td>-0.56001</td>\n",
       "      <td>-0.440936</td>\n",
       "      <td>-0.440936</td>\n",
       "      <td>-0.971721</td>\n",
       "      <td>-0.669818</td>\n",
       "      <td>-0.335076</td>\n",
       "    </tr>\n",
       "    <tr>\n",
       "      <th>141</th>\n",
       "      <td>-0.56001</td>\n",
       "      <td>-0.440936</td>\n",
       "      <td>-0.440936</td>\n",
       "      <td>-0.963093</td>\n",
       "      <td>-0.669991</td>\n",
       "      <td>-0.160830</td>\n",
       "    </tr>\n",
       "    <tr>\n",
       "      <th>30</th>\n",
       "      <td>-0.55027</td>\n",
       "      <td>-0.440936</td>\n",
       "      <td>-0.425599</td>\n",
       "      <td>-0.965350</td>\n",
       "      <td>-0.670767</td>\n",
       "      <td>0.714153</td>\n",
       "    </tr>\n",
       "    <tr>\n",
       "      <th>54</th>\n",
       "      <td>-0.55027</td>\n",
       "      <td>-0.440936</td>\n",
       "      <td>-0.425599</td>\n",
       "      <td>-0.986596</td>\n",
       "      <td>-0.669732</td>\n",
       "      <td>0.636477</td>\n",
       "    </tr>\n",
       "  </tbody>\n",
       "</table>\n",
       "</div>"
      ],
      "text/plain": [
       "     c_total        Cd        Pb      Mod1      Mod2      Mod3\n",
       "73  -0.56001 -0.440936 -0.440936 -0.962827 -0.669732  0.094875\n",
       "113 -0.56001 -0.440936 -0.440936 -0.971721 -0.669818 -0.335076\n",
       "141 -0.56001 -0.440936 -0.440936 -0.963093 -0.669991 -0.160830\n",
       "30  -0.55027 -0.440936 -0.425599 -0.965350 -0.670767  0.714153\n",
       "54  -0.55027 -0.440936 -0.425599 -0.986596 -0.669732  0.636477"
      ]
     },
     "execution_count": 4,
     "metadata": {},
     "output_type": "execute_result"
    }
   ],
   "source": [
    "df_shuf=df_shuf.apply(zscore) #Applying the zscore here for the columns \n",
    "df_shuf.head()\n"
   ]
  },
  {
   "cell_type": "code",
   "execution_count": 5,
   "metadata": {},
   "outputs": [],
   "source": [
    "#Defining the c index function, which is a metric to check our regression output\n",
    "def c_index(true_labels, predictions):\n",
    "    \"\"\"\n",
    "    Calculate C-index\n",
    "    \"\"\"\n",
    "    n = 0\n",
    "    h_sum = 0\n",
    "    for i in range(0, len(true_labels)):\n",
    "        t = true_labels[i]\n",
    "        p = predictions[i]\n",
    "        for j in range(i+1, len(true_labels)):\n",
    "            nt = true_labels[j]\n",
    "            np = predictions[j]\n",
    "            if t != nt:\n",
    "                n += 1\n",
    "                if (p < np and t < nt) or (p > np and t > nt):\n",
    "                    h_sum += 1.0\n",
    "                elif (p < np and t > nt) or (p > np and t < nt):\n",
    "                    h_sum += 0\n",
    "                elif p == np:\n",
    "                    h_sum += 0.5\n",
    "    return h_sum/float(n)"
   ]
  },
  {
   "cell_type": "code",
   "execution_count": 6,
   "metadata": {},
   "outputs": [
    {
     "data": {
      "text/plain": [
       "0.75"
      ]
     },
     "execution_count": 6,
     "metadata": {},
     "output_type": "execute_result"
    }
   ],
   "source": [
    "# testing c-index implementation\n",
    "true_labels = [-1, 1, 1, -1, 1]\n",
    "predictions = [0.60, 0.80, 0.75, 0.75, 0.70]\n",
    "c_index(true_labels, predictions)"
   ]
  },
  {
   "cell_type": "code",
   "execution_count": 7,
   "metadata": {
    "scrolled": false
   },
   "outputs": [],
   "source": [
    "#Here I have used the KNN regression from SKearn combining with multioutput regression to get all the 3 predicted variables together.\n",
    "\n",
    "def leave_replica_out_cv(dataset):\n",
    "\n",
    "    #The dictionary will store the regression outputs for various values of k(1-10).\n",
    "    CI={}\n",
    "    for k in range(1,11):\n",
    "        #3 rows are taken together so that one replica is taken at once.\n",
    "        true_value=np.empty([0,3])\n",
    "        predicted_value=np.empty([0,3])\n",
    "        for i in range(0,len(dataset),3):  #Select each replica\n",
    "            test=dataset[i:i+3]\n",
    "            train=np.concatenate([dataset[0:i],dataset[i+3:]])\n",
    "            y_test=test[:,0:3]\n",
    "            x_test=test[:,3:6]\n",
    "            y_train=train[:,0:3]\n",
    "            x_train=train[:,3:6]\n",
    "        \n",
    "    \n",
    "            #Calling, fitting and predicting from the model\n",
    "            regr_multirf=MultiOutputRegressor(KNeighborsRegressor(n_neighbors=k,metric='euclidean'))\n",
    "            regr_multirf.fit(x_train,y_train)\n",
    "            predicted=regr_multirf.predict(x_test)\n",
    "\n",
    "            true_value=np.concatenate([true_value, y_test])\n",
    "            predicted_value=np.vstack((predicted_value, predicted))\n",
    "\n",
    "        \n",
    "        lst=[]\n",
    "        #Loop through all the output columns(C_tot, Cd, and Pb)\n",
    "        for j in range(len(true_value.T)):\n",
    "            cols=c_index(true_value.T[j],predicted_value.T[j])\n",
    "            lst.append(np.round(cols,3))\n",
    "        CI[k]=lst\n",
    "  \n",
    "    return CI\n",
    "        \n",
    "    \n",
    "        \n",
    "        \n",
    "        "
   ]
  },
  {
   "cell_type": "code",
   "execution_count": 8,
   "metadata": {},
   "outputs": [
    {
     "name": "stdout",
     "output_type": "stream",
     "text": [
      "{1: [0.815, 0.741, 0.736], 2: [0.816, 0.746, 0.752], 3: [0.82, 0.735, 0.753], 4: [0.823, 0.722, 0.759], 5: [0.816, 0.721, 0.756], 6: [0.81, 0.714, 0.758], 7: [0.821, 0.719, 0.76], 8: [0.823, 0.715, 0.762], 9: [0.822, 0.705, 0.764], 10: [0.819, 0.697, 0.764]}\n"
     ]
    }
   ],
   "source": [
    "k_with_CI=leave_replica_out_cv(df_shuf.values)\n",
    "print(k_with_CI)"
   ]
  },
  {
   "cell_type": "code",
   "execution_count": 9,
   "metadata": {},
   "outputs": [
    {
     "data": {
      "image/png": "[encoded data removed]",
      "text/plain": [
       "<Figure size 504x360 with 1 Axes>"
      ]
     },
     "metadata": {
      "needs_background": "light"
     },
     "output_type": "display_data"
    }
   ],
   "source": [
    "#Plotting the k values vs c index \n",
    "%matplotlib inline\n",
    "import matplotlib.pyplot as plt\n",
    "c_ind=np.array(list(k_with_CI.values())).T\n",
    "plt.figure(figsize=(7,5))\n",
    "plt.plot(k_with_CI.keys(),c_ind[0],label='C_Total',marker='o')\n",
    "plt.plot(k_with_CI.keys(),c_ind[1],label='Cd',marker='o')\n",
    "plt.plot(k_with_CI.keys(),c_ind[2],label='Pb',marker='o')\n",
    "plt.xlabel('Number of K in KNN')\n",
    "plt.ylabel('C-Index Metric')\n",
    "plt.xlim([1,10])\n",
    "plt.legend(loc=4)\n",
    "plt.title('C-Index vs K values')\n",
    "plt.show()"
   ]
  },
  {
   "cell_type": "markdown",
   "metadata": {},
   "source": [
    "#Conclusion:\n",
    "As far as I understood, the previous data was shuffled so I was not able to take the replica together, unless I shuffled it back. \n",
    "Then I have done the leave-replica-out cross validation with the KNN algorithm and plotted the results obtained. "
   ]
  },
  {
   "cell_type": "code",
   "execution_count": null,
   "metadata": {},
   "outputs": [],
   "source": []
  }
 ],
 "metadata": {
  "kernelspec": {
   "display_name": "Python 3",
   "language": "python",
   "name": "python3"
  },
  "language_info": {
   "codemirror_mode": {
    "name": "ipython",
    "version": 3
   },
   "file_extension": ".py",
   "mimetype": "text/x-python",
   "name": "python",
   "nbconvert_exporter": "python",
   "pygments_lexer": "ipython3",
   "version": "3.7.1"
  }
 },
 "nbformat": 4,
 "nbformat_minor": 2
}
